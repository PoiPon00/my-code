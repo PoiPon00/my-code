{
 "cells": [
  {
   "cell_type": "markdown",
   "metadata": {},
   "source": [
    "__Arytmetyka zmiennoprzecinkowa - Python__\n",
    "\n",
    "Liczby zmiennoprzecinkowe są reprezentowane w sprzęcie komputerowym jako ułamki z podstawą 2 (binarnie). \n",
    "Na przykład ułamek dziesiętny 0.125 ma wartość równą 1/10+2/100+5/1000 (podstawa 10). Analogicznie ułamek binarny 0.001 ma wartość 0/2+0/4+1/8 (podstawa 2). Oba te ułamki mają taką samą wartość, jedyna różnica polega na tym, iż pierwszy jest w notacji dziesiętnej, a drugi w dwójkowej.\n",
    "\n",
    "Niestety, większości ułamków dziesiętnych nie można przedstawić dokładnie jako ułamków dwójkowych. Konsekwencją jest to, że generalnie dziesiętne liczby zmiennoprzecinkowe, które wprowadzasz, są przybliżane tylko przez binarne liczby zmiennoprzecinkowe faktycznie przechowywane w maszynie. Wyświetlana jest tylko aproksymacja"
   ]
  },
  {
   "cell_type": "code",
   "execution_count": 6,
   "metadata": {},
   "outputs": [
    {
     "data": {
      "text/plain": [
       "0.1"
      ]
     },
     "execution_count": 6,
     "metadata": {},
     "output_type": "execute_result"
    }
   ],
   "source": [
    "1/10\n"
   ]
  },
  {
   "cell_type": "markdown",
   "metadata": {},
   "source": [
    "A teraz zobaczmy jak faktycznie 0.1 jest zapisana:"
   ]
  },
  {
   "cell_type": "code",
   "execution_count": 13,
   "metadata": {},
   "outputs": [
    {
     "data": {
      "text/plain": [
       "'0.1000000000000000055511151231257827021181583404541015625'"
      ]
     },
     "execution_count": 13,
     "metadata": {},
     "output_type": "execute_result"
    }
   ],
   "source": [
    "format(1/10, '.55g')\n"
   ]
  },
  {
   "cell_type": "markdown",
   "metadata": {},
   "source": [
    "Może mieć to swoje konsekwencje, o rakiecie Patriot już mówiliśmy, natomiast rozważmy taki problem (Parafraza 2+2=4):\n",
    "Czy 0.2+0.2+0.2=0.6"
   ]
  },
  {
   "cell_type": "code",
   "execution_count": 15,
   "metadata": {},
   "outputs": [
    {
     "data": {
      "text/plain": [
       "False"
      ]
     },
     "execution_count": 15,
     "metadata": {},
     "output_type": "execute_result"
    }
   ],
   "source": [
    "0.2+0.2+0.2 == 0.6"
   ]
  },
  {
   "cell_type": "markdown",
   "metadata": {},
   "source": [
    "W takim razie spróbujmy zaokrąglić wartości"
   ]
  },
  {
   "cell_type": "code",
   "execution_count": 1,
   "metadata": {},
   "outputs": [
    {
     "data": {
      "text/plain": [
       "False"
      ]
     },
     "execution_count": 1,
     "metadata": {},
     "output_type": "execute_result"
    }
   ],
   "source": [
    "round(.2, 1) + round(.2, 1) + round(.2, 1) == round(.6, 1)"
   ]
  },
  {
   "cell_type": "markdown",
   "metadata": {},
   "source": [
    "Ponieważ 0,1 nie może zbliżyć się do dokładnej wartości 1/10, a 0,3 nie może zbliżyć się do dokładnej wartości 3/10, to wstępne zaokrąglanie za pomocą funkcji round () nie może pomóc.\n",
    "Chociaż nie można przybliżyć liczb do dokładnych wartości, funkcja round () może być przydatna do zaokrąglania końcowego, dzięki czemu wyniki z niedokładnymi wartościami będą ze sobą porównywalne:"
   ]
  },
  {
   "cell_type": "code",
   "execution_count": 20,
   "metadata": {},
   "outputs": [
    {
     "data": {
      "text/plain": [
       "True"
      ]
     },
     "execution_count": 20,
     "metadata": {},
     "output_type": "execute_result"
    }
   ],
   "source": [
    "round(.2 + .2 + .2, 1) == round(.6, 1)"
   ]
  },
  {
   "cell_type": "markdown",
   "metadata": {},
   "source": [
    "W tych przypadkach, gdy potrzebujemy poznać dokładną wartość zmiennej zmiennoprzecinkowej, metoda float.as_integer_ratio () wyraża wartość float jako ułamek:"
   ]
  },
  {
   "cell_type": "code",
   "execution_count": 24,
   "metadata": {},
   "outputs": [
    {
     "data": {
      "text/plain": [
       "(3602879701896397, 18014398509481984)"
      ]
     },
     "execution_count": 24,
     "metadata": {},
     "output_type": "execute_result"
    }
   ],
   "source": [
    "float.as_integer_ratio(2/10)"
   ]
  },
  {
   "cell_type": "code",
   "execution_count": 25,
   "metadata": {},
   "outputs": [
    {
     "data": {
      "text/plain": [
       "True"
      ]
     },
     "execution_count": 25,
     "metadata": {},
     "output_type": "execute_result"
    }
   ],
   "source": [
    "0.2==3602879701896397/18014398509481984"
   ]
  },
  {
   "cell_type": "markdown",
   "metadata": {},
   "source": [
    "Na koniec, sumowanie w kontekście błedów, wyobraźmy sobie, że chcemy dodać 0.2 1000-krotnie. Możemy użyć pętli for albo sum()"
   ]
  },
  {
   "cell_type": "code",
   "execution_count": 37,
   "metadata": {},
   "outputs": [
    {
     "data": {
      "text/plain": [
       "99.9999999999986"
      ]
     },
     "execution_count": 37,
     "metadata": {},
     "output_type": "execute_result"
    }
   ],
   "source": [
    "sum([0.1] * 1000) \n"
   ]
  },
  {
   "cell_type": "markdown",
   "metadata": {},
   "source": [
    "Ze względu na brak dokładnej reprezentacji 0.1 binarnie nie otrzymaliśmy 100, a błędy się kumulowały. Zobaczmy jak wygląda sytuacja w przypadku biblioteki NumPy:"
   ]
  },
  {
   "cell_type": "code",
   "execution_count": 38,
   "metadata": {},
   "outputs": [
    {
     "data": {
      "text/plain": [
       "100.00000000000001"
      ]
     },
     "execution_count": 38,
     "metadata": {},
     "output_type": "execute_result"
    }
   ],
   "source": [
    "import numpy as np\n",
    "np.sum([0.1] * 1000,dtype=np.float64)"
   ]
  },
  {
   "cell_type": "markdown",
   "metadata": {},
   "source": [
    "Jest lepiej, ale rozwiązaniem może być math.fsum(). "
   ]
  },
  {
   "cell_type": "code",
   "execution_count": 41,
   "metadata": {},
   "outputs": [
    {
     "data": {
      "text/plain": [
       "100.0"
      ]
     },
     "execution_count": 41,
     "metadata": {},
     "output_type": "execute_result"
    }
   ],
   "source": [
    "import math \n",
    "math.fsum([0.1]*1000)"
   ]
  },
  {
   "cell_type": "markdown",
   "metadata": {},
   "source": [
    "Dla pewności:"
   ]
  },
  {
   "cell_type": "code",
   "execution_count": 42,
   "metadata": {},
   "outputs": [
    {
     "data": {
      "text/plain": [
       "True"
      ]
     },
     "execution_count": 42,
     "metadata": {},
     "output_type": "execute_result"
    }
   ],
   "source": [
    "math.fsum([0.1] * 1000) ==100"
   ]
  },
  {
   "cell_type": "code",
   "execution_count": null,
   "metadata": {},
   "outputs": [],
   "source": []
  },
  {
   "cell_type": "code",
   "execution_count": null,
   "metadata": {},
   "outputs": [],
   "source": []
  }
 ],
 "metadata": {
  "kernelspec": {
   "display_name": "Python 3",
   "language": "python",
   "name": "python3"
  },
  "language_info": {
   "codemirror_mode": {
    "name": "ipython",
    "version": 3
   },
   "file_extension": ".py",
   "mimetype": "text/x-python",
   "name": "python",
   "nbconvert_exporter": "python",
   "pygments_lexer": "ipython3",
   "version": "3.7.4"
  }
 },
 "nbformat": 4,
 "nbformat_minor": 2
}
