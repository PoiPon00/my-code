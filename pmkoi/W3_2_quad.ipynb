{
 "cells": [
  {
   "cell_type": "markdown",
   "metadata": {},
   "source": [
    "# __Interpolacja Kwadratowa__\n",
    "\n",
    "Wyokrzystując poprzedni notatnik:\n",
    "\n"
   ]
  },
  {
   "cell_type": "markdown",
   "metadata": {},
   "source": [
    "## Interpolacja Liniowa"
   ]
  },
  {
   "cell_type": "code",
   "execution_count": 34,
   "metadata": {},
   "outputs": [],
   "source": [
    "import numpy as np\n",
    "import matplotlib.pyplot as plt\n",
    "x = np.linspace(0.1, 6, 1000)\n",
    "yln=np.log(x) # Generowanie funkcji logratmicznnej o podstawie e"
   ]
  },
  {
   "cell_type": "markdown",
   "metadata": {},
   "source": [
    "Zgodnie z treścią przykładu:\n",
    "- interesuje nas wartość funkcji dla argumentu równego 2 (x_s)\n",
    "- mamy zdefiniowane 3 punkty:\n",
    "    - (x0,y0)=(1,log(1))\n",
    "    - (x1,y1)=(3,log(3))\n",
    "    - (x2,y2)=(6,log(6))"
   ]
  },
  {
   "cell_type": "code",
   "execution_count": 35,
   "metadata": {},
   "outputs": [],
   "source": [
    "x_s=2\n",
    "x0=1\n",
    "x1=3\n",
    "x2=6\n",
    "f0=np.log(x0)\n",
    "f1=np.log(x1)\n",
    "f2=np.log(x2)\n",
    "y_s=np.log(x_s)\n",
    "\n"
   ]
  },
  {
   "cell_type": "markdown",
   "metadata": {},
   "source": [
    "Wylicz wartości z pary punktów (x0,y0), (x2,y2) zgodnie z $𝑓_{1}(𝑥)=𝑓(𝑥_{0})+\\frac{𝑓(𝑥_{1} )−𝑓(𝑥_{0})}{(𝑥_{1}−𝑥_{0} )} (𝑥−𝑥_{0})$ dla x_s=2"
   ]
  },
  {
   "cell_type": "code",
   "execution_count": 36,
   "metadata": {},
   "outputs": [
    {
     "data": {
      "text/plain": [
       "0.358351893845611"
      ]
     },
     "execution_count": 36,
     "metadata": {},
     "output_type": "execute_result"
    }
   ],
   "source": [
    "f0+((f2-f0)/(x2-x0))*(x_s-x0)"
   ]
  },
  {
   "cell_type": "markdown",
   "metadata": {},
   "source": [
    "Wylicz wartości z pary punktów (x0,y0), (x1,y1) zgodnie z $𝑓_{1}(𝑥)=𝑓(𝑥_{0})+\\frac{𝑓(𝑥_{1} )−𝑓(𝑥_{0})}{(𝑥_{1}−𝑥_{0} )} (𝑥−𝑥_{0})$ dla x_s=2"
   ]
  },
  {
   "cell_type": "code",
   "execution_count": 37,
   "metadata": {},
   "outputs": [
    {
     "data": {
      "text/plain": [
       "0.5493061443340549"
      ]
     },
     "execution_count": 37,
     "metadata": {},
     "output_type": "execute_result"
    }
   ],
   "source": [
    "f0+((f1-f0)/(x1-x0))*(x_s-x0)"
   ]
  },
  {
   "cell_type": "markdown",
   "metadata": {},
   "source": [
    "## Interpolacja kwadratowa"
   ]
  },
  {
   "cell_type": "markdown",
   "metadata": {},
   "source": [
    "Wyliczmy współczynniki $b_{0},b_{1},b_{2}$"
   ]
  },
  {
   "cell_type": "code",
   "execution_count": 38,
   "metadata": {},
   "outputs": [
    {
     "data": {
      "text/plain": [
       "0.0"
      ]
     },
     "metadata": {},
     "output_type": "display_data"
    },
    {
     "data": {
      "text/plain": [
       "0.5493061443340549"
      ]
     },
     "metadata": {},
     "output_type": "display_data"
    },
    {
     "data": {
      "text/plain": [
       "-0.0636514168294813"
      ]
     },
     "metadata": {},
     "output_type": "display_data"
    }
   ],
   "source": [
    "b0=f0\n",
    "display(b0)\n",
    "b1=(f1-f0)/(x1-x0)\n",
    "display(b1)\n",
    "b2=((f2-f1)/(x2-x1)-(f1-f0)/(x1-x0))/(x2-x0)\n",
    "display(b2)"
   ]
  },
  {
   "cell_type": "markdown",
   "metadata": {},
   "source": [
    "Wyliczmy wartość w punkcie x_s:"
   ]
  },
  {
   "cell_type": "code",
   "execution_count": 41,
   "metadata": {},
   "outputs": [
    {
     "data": {
      "text/plain": [
       "0.6129575611635362"
      ]
     },
     "metadata": {},
     "output_type": "display_data"
    }
   ],
   "source": [
    "y2s=b0+b1*(x_s-x0)+b2*(x_s-x0)*(x_s-x1)\n",
    "display(y2s)"
   ]
  },
  {
   "cell_type": "markdown",
   "metadata": {},
   "source": [
    "Błąd tym razem wynosi:"
   ]
  },
  {
   "cell_type": "code",
   "execution_count": 43,
   "metadata": {},
   "outputs": [
    {
     "data": {
      "text/plain": [
       "11.568916623397287"
      ]
     },
     "execution_count": 43,
     "metadata": {},
     "output_type": "execute_result"
    }
   ],
   "source": [
    "abs((np.log(2)-y2s)/np.log(2))*100"
   ]
  },
  {
   "cell_type": "markdown",
   "metadata": {},
   "source": [
    "Narysumy wykres funkcji, z zaznaczeniem wartości prawdziwej dla x_s=2 oraz punktów (x0,y0), (x1,y1), (x2,y2) i wartości wyliczonych z interpolacji liniowej i kwadratowej"
   ]
  },
  {
   "cell_type": "code",
   "execution_count": 44,
   "metadata": {},
   "outputs": [
    {
     "data": {
      "image/png": "[encoded data removed]",
      "text/plain": [
       "<Figure size 432x288 with 1 Axes>"
      ]
     },
     "metadata": {
      "needs_background": "light"
     },
     "output_type": "display_data"
    }
   ],
   "source": [
    "fig, ax = plt.subplots(1)\n",
    "plt.plot(x, yln, label='linear',color='b')\n",
    "\n",
    "#narysuj funkcję logarytm\n",
    "ax.annotate('$y=log_{e}x$', xy=(3.5, np.log(3.5)), xytext=(0, 1.5),\n",
    "            arrowprops=dict(arrowstyle=\"->\",\n",
    "                            connectionstyle=\"angle3,angleA=0,angleB=-90\",color='b'),color='b');\n",
    "plt.plot(x_s, y_s,'bo')\n",
    "\n",
    "ax.annotate('wartosc prawdziwa', xy=(x_s, y_s), xytext=(0, 1),\n",
    "             arrowprops=dict(facecolor='blue', shrink=0.05),color='b');\n",
    "\n",
    "#zaznacz punkty oraz liniową interpolację\n",
    "plt.plot([x0,x1,x2], [f0,f1,f2],'rs')\n",
    "plt.plot([x0,x1], [f0,f1],'r-')\n",
    "plt.plot([x0,x2], [f0,f2],'r-')\n",
    "ax.annotate('$f_{1}(x)$', xy=(x1-0.2, np.log(x1-0.2)), xytext=(4, -1),\n",
    "            arrowprops=dict(arrowstyle=\"->\",\n",
    "                            connectionstyle=\"angle3,angleA=0,angleB=-90\",color='r'),color='r');\n",
    "ax.annotate('$f_{1}(x)$', xy=(x2-0.2, np.log(x2-0.2)), xytext=(4, -1),\n",
    "            arrowprops=dict(arrowstyle=\"->\",\n",
    "                            connectionstyle=\"angle3,angleA=0,angleB=-90\",color='r'),color='r');\n",
    "\n",
    "# zaznacz wartości wyliczone - linowa\n",
    "plt.plot(x_s, f0+((f1-f0)/(x1-x0))*(x_s-x0),'ro')\n",
    "plt.plot(x_s, f0+((f2-f0)/(x2-x0))*(x_s-x0),'ro')\n",
    "ax.annotate('liniowa estymata', xy=(x_s, f0+((f2-f0)/(x2-x0))*(x_s-x0)), xytext=(x_s, -2),\n",
    "             arrowprops=dict(facecolor='red', shrink=0.05),color='r');\n",
    "\n",
    "#narysuj interpolację kwadratową \n",
    "plt.plot(x,b0+b1*(x-x0)+b2*(x-x0)*(x-x1), label='linear',color='g')\n",
    "\n",
    "# zaznacz wartości wyliczone - kwadratowa\n",
    "plt.plot(x_s, y2s,'go')\n",
    "ax.annotate('kwadratowa estymata', xy=(x_s, y2s), xytext=(x_s, 1.8),\n",
    "             arrowprops=dict(facecolor='green', shrink=0.05),color='g');\n",
    "\n"
   ]
  },
  {
   "cell_type": "markdown",
   "metadata": {},
   "source": [
    "i powiększenie w interesującym zakresie"
   ]
  },
  {
   "cell_type": "code",
   "execution_count": 45,
   "metadata": {},
   "outputs": [
    {
     "data": {
      "image/png": "[encoded data removed]",
      "text/plain": [
       "<Figure size 432x288 with 1 Axes>"
      ]
     },
     "metadata": {
      "needs_background": "light"
     },
     "output_type": "display_data"
    }
   ],
   "source": [
    "fig, ax = plt.subplots(1)\n",
    "plt.axes(xlim=(1.5,2.5),ylim=(0,1))\n",
    "plt.plot(x, yln, label='linear',color='b')\n",
    "\n",
    "#narysuj funkcję logarytm\n",
    "ax.annotate('$y=log_{e}x$', xy=(3.5, np.log(3.5)), xytext=(0, 1.5),\n",
    "            arrowprops=dict(arrowstyle=\"->\",\n",
    "                            connectionstyle=\"angle3,angleA=0,angleB=-90\",color='b'),color='b');\n",
    "plt.plot(x_s, y_s,'bo')\n",
    "\n",
    "ax.annotate('wartosc prawdziwa', xy=(x_s, y_s), xytext=(0, 1),\n",
    "             arrowprops=dict(facecolor='blue', shrink=0.05),color='b');\n",
    "\n",
    "#zaznacz punkty oraz liniową interpolację\n",
    "plt.plot([x0,x1,x2], [f0,f1,f2],'rs')\n",
    "plt.plot([x0,x1], [f0,f1],'r-')\n",
    "plt.plot([x0,x2], [f0,f2],'r-')\n",
    "ax.annotate('$f_{1}(x)$', xy=(x1-0.2, np.log(x1-0.2)), xytext=(4, -1),\n",
    "            arrowprops=dict(arrowstyle=\"->\",\n",
    "                            connectionstyle=\"angle3,angleA=0,angleB=-90\",color='r'),color='r');\n",
    "ax.annotate('$f_{1}(x)$', xy=(x2-0.2, np.log(x2-0.2)), xytext=(4, -1),\n",
    "            arrowprops=dict(arrowstyle=\"->\",\n",
    "                            connectionstyle=\"angle3,angleA=0,angleB=-90\",color='r'),color='r');\n",
    "\n",
    "# zaznacz wartości wyliczone - linowa\n",
    "plt.plot(x_s, f0+((f1-f0)/(x1-x0))*(x_s-x0),'ro')\n",
    "plt.plot(x_s, f0+((f2-f0)/(x2-x0))*(x_s-x0),'ro')\n",
    "ax.annotate('liniowa estymata', xy=(x_s, f0+((f2-f0)/(x2-x0))*(x_s-x0)), xytext=(x_s, -2),\n",
    "             arrowprops=dict(facecolor='red', shrink=0.05),color='r');\n",
    "\n",
    "#narysuj interpolację kwadratową \n",
    "plt.plot(x,b0+b1*(x-x0)+b2*(x-x0)*(x-x1), label='linear',color='g')\n",
    "\n",
    "# zaznacz wartości wyliczone - kwadratowa\n",
    "plt.plot(x_s, y2s,'go')\n",
    "ax.annotate('kwadratowa estymata', xy=(x_s, y2s), xytext=(x_s, 1.8),\n",
    "             arrowprops=dict(facecolor='green', shrink=0.05),color='g');\n"
   ]
  },
  {
   "cell_type": "markdown",
   "metadata": {},
   "source": [
    "Jak zwykle zapraszam do eksperymentów z kodem."
   ]
  }
 ],
 "metadata": {
  "kernelspec": {
   "display_name": "Python 3",
   "language": "python",
   "name": "python3"
  },
  "language_info": {
   "codemirror_mode": {
    "name": "ipython",
    "version": 3
   },
   "file_extension": ".py",
   "mimetype": "text/x-python",
   "name": "python",
   "nbconvert_exporter": "python",
   "pygments_lexer": "ipython3",
   "version": "3.7.3"
  }
 },
 "nbformat": 4,
 "nbformat_minor": 2
}
